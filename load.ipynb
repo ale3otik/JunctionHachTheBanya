{
 "cells": [
  {
   "cell_type": "code",
   "execution_count": 19,
   "metadata": {
    "collapsed": true
   },
   "outputs": [],
   "source": [
    "import matplotlib.pyplot as plt\n",
    "import json\n",
    "import requests\n",
    "import numpy as np\n",
    "%matplotlib inline"
   ]
  },
  {
   "cell_type": "code",
   "execution_count": 13,
   "metadata": {
    "collapsed": true
   },
   "outputs": [],
   "source": [
    "def get_temp(elem):\n",
    "    return elem['Measurements']['Temperature']['value']\n",
    "\n",
    "def get_timestamp(elem):\n",
    "    return elem['Timestamp']"
   ]
  },
  {
   "cell_type": "code",
   "execution_count": 12,
   "metadata": {
    "collapsed": false
   },
   "outputs": [],
   "source": [
    "URL_TEMPLATE = \"https://apigtw.vaisala.com/hackjunction2018/saunameasurements/history?SensorID={}&before={}&after={}\"\n",
    "sensor_id = \"Bench1\"\n",
    "now =   1543000342000\n",
    "start = 1542924742000\n",
    "delta = 3600000\n",
    "for timestamp in range(start, now, delta):\n",
    "    before = timestamp + delta\n",
    "    after = timestamp\n",
    "    response = requests.get(URL_TEMPLATE.format(sensor_id, before, after))\n",
    "    with open(\"data/temperature_{}_{}_{}.csv\".format(sensor_id, before, after), \"w\") as file:\n",
    "        file.write(response.text)\n",
    "\n",
    "# data = json.loads(response.text)"
   ]
  },
  {
   "cell_type": "code",
   "execution_count": 39,
   "metadata": {
    "collapsed": false
   },
   "outputs": [],
   "source": [
    "timestamps_all = []\n",
    "temps_all = []\n",
    "\n",
    "for timestamp in range(start, now, delta):\n",
    "    with open(\"data/temperature_{}_{}_{}.csv\".format(sensor_id, before, after), \"r\") as file:\n",
    "        json_data = json.load(file)\n",
    "#     assert len(timestamps_all) == len(temps_all)\n",
    "#     if len(json_data) > 0:\n",
    "    timestamps_curr = list(reversed([get_timestamp(x) for x in json_data]))\n",
    "    temps_curr = list(reversed([get_temp(x) for x in json_data]))\n",
    "\n",
    "    assert len(timestamps_curr) == len(temps_curr)\n",
    "    if len(timestamps_curr) > 0:\n",
    "        timestamps_all.append(timestamps_curr)\n",
    "        temps_all.append(temps_curr)\n",
    "\n",
    "timestamps_all = np.concatenate(timestamps_all)\n",
    "temps_all = np.concatenate(temps_all)"
   ]
  },
  {
   "cell_type": "code",
   "execution_count": 9,
   "metadata": {
    "collapsed": true
   },
   "outputs": [],
   "source": [
    "size = 0\n",
    "with open(\"temperature_Bench1_1538910942000_1537910942000.csv\", \"r\") as f:\n",
    "    size = len(json.load(f))\n"
   ]
  },
  {
   "cell_type": "code",
   "execution_count": 10,
   "metadata": {
    "collapsed": false
   },
   "outputs": [
    {
     "data": {
      "text/plain": [
       "0"
      ]
     },
     "execution_count": 10,
     "metadata": {},
     "output_type": "execute_result"
    }
   ],
   "source": [
    "size"
   ]
  },
  {
   "cell_type": "code",
   "execution_count": 4,
   "metadata": {
    "collapsed": false
   },
   "outputs": [
    {
     "name": "stdout",
     "output_type": "stream",
     "text": [
      "README.md                                          temperature_Bench1_1535910942000_1534910942000.csv temperature_Bench1_1539910942000_1538910942000.csv\r\n",
      "load.ipynb                                         temperature_Bench1_1536910942000_1535910942000.csv temperature_Bench1_1540910942000_1539910942000.csv\r\n",
      "temperature_Bench1_1533910942000_1532910942000.csv temperature_Bench1_1537910942000_1536910942000.csv temperature_Bench1_1541910942000_1540910942000.csv\r\n",
      "temperature_Bench1_1534910942000_1533910942000.csv temperature_Bench1_1538910942000_1537910942000.csv temperature_Bench1_1542910942000_1541910942000.csv\r\n"
     ]
    }
   ],
   "source": [
    "ja"
   ]
  },
  {
   "cell_type": "code",
   "execution_count": 50,
   "metadata": {
    "collapsed": false
   },
   "outputs": [],
   "source": []
  },
  {
   "cell_type": "code",
   "execution_count": 43,
   "metadata": {
    "collapsed": false
   },
   "outputs": [
    {
     "data": {
      "text/plain": [
       "[<matplotlib.lines.Line2D at 0x110eaeb70>]"
      ]
     },
     "execution_count": 43,
     "metadata": {},
     "output_type": "execute_result"
    },
    {
     "data": {
      "image/png": "[encoded data removed]",
      "text/plain": [
       "<matplotlib.figure.Figure at 0x110ac0c50>"
      ]
     },
     "metadata": {},
     "output_type": "display_data"
    }
   ],
   "source": [
    "plt.plot(timestamps_all, temps_all)"
   ]
  },
  {
   "cell_type": "code",
   "execution_count": null,
   "metadata": {
    "collapsed": true
   },
   "outputs": [],
   "source": []
  }
 ],
 "metadata": {
  "kernelspec": {
   "display_name": "Python 3",
   "language": "python",
   "name": "python3"
  },
  "language_info": {
   "codemirror_mode": {
    "name": "ipython",
    "version": 3
   },
   "file_extension": ".py",
   "mimetype": "text/x-python",
   "name": "python",
   "nbconvert_exporter": "python",
   "pygments_lexer": "ipython3",
   "version": "3.5.4"
  }
 },
 "nbformat": 4,
 "nbformat_minor": 2
}
