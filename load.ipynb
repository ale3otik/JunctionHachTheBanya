{
 "cells": [
  {
   "cell_type": "code",
   "execution_count": 3,
   "metadata": {
    "collapsed": true
   },
   "outputs": [],
   "source": [
    "import matplotlib.pyplot as plt\n",
    "import json\n",
    "import requests\n",
    "import numpy as np\n",
    "import time\n",
    "import pandas as pd\n",
    "%matplotlib inline"
   ]
  },
  {
   "cell_type": "code",
   "execution_count": 5,
   "metadata": {
    "collapsed": true
   },
   "outputs": [],
   "source": [
    "def get_temp(elem):\n",
    "    return elem['Measurements']['Temperature']['value']\n",
    "\n",
    "def get_measure(elem, key):\n",
    "    return elem['Measurements'][key]['value']\n",
    "\n",
    "def get_timestamp(elem):\n",
    "    return elem['Timestamp']\n",
    "# Carbon Dioxide concentration"
   ]
  },
  {
   "cell_type": "code",
   "execution_count": 6,
   "metadata": {
    "collapsed": false
   },
   "outputs": [
    {
     "data": {
      "text/plain": [
       "1543056179239"
      ]
     },
     "execution_count": 6,
     "metadata": {},
     "output_type": "execute_result"
    }
   ],
   "source": [
    "int(round(time.time() * 1000))"
   ]
  },
  {
   "cell_type": "code",
   "execution_count": 20,
   "metadata": {
    "collapsed": false
   },
   "outputs": [],
   "source": [
    "URL_TEMPLATE = \"https://apigtw.vaisala.com/hackjunction2018/saunameasurements/history?SensorID={}&before={}&after={}\"\n",
    "TIME_NOW = int(round(time.time() * 1000))\n",
    "\n",
    "def load_to_file_json(sensor_id):\n",
    "    now =   TIME_NOW\n",
    "    start = 1542924742000\n",
    "    delta = 3600000\n",
    "    \n",
    "    timestamps_all = []\n",
    "    measures_all = []\n",
    "    cnt = 0\n",
    "    for timestamp in range(start, now, delta):\n",
    "        before = timestamp + delta\n",
    "        after = timestamp\n",
    "        response = requests.get(URL_TEMPLATE.format(sensor_id, before, after))\n",
    "        json_array = json.loads(response.text)\n",
    "        \n",
    "        if len(json_array) > 0:\n",
    "            timestamps = [get_timestamp(x) for x in json_array]\n",
    "            measures = [get_temp(x) for x in json_array]\n",
    "            \n",
    "            assert len(timestamps) == len(measures)\n",
    "            timestamps_all.append(timestamps)\n",
    "            measures_all.append(measures)\n",
    "    \n",
    "    print(len(timestamps_all))\n",
    "    timestamps_all = np.concatenate(timestamps_all)\n",
    "    measures_all = np.concatenate(measures_all)\n",
    "    df = pd.DataFrame()\n",
    "    df['timestamps'] = timestamps_all\n",
    "    df[sensor_id] = measures_all\n",
    "    df.to_csv(\"data/temperature_{}.csv\".format(sensor_id), index=False)\n",
    "\n",
    "load_to_file_json(\"Bench1\", get_temp)"
   ]
  },
  {
   "cell_type": "code",
   "execution_count": 1,
   "metadata": {
    "collapsed": false
   },
   "outputs": [],
   "source": [
    "pd.read_csv(\"data/temperature_{}.csv\".format(sensor_id))"
   ]
  },
  {
   "cell_type": "code",
   "execution_count": 24,
   "metadata": {
    "collapsed": false
   },
   "outputs": [
    {
     "data": {
      "text/plain": [
       "('Bench1', 'Bench2', 'Bench3', 'Floor1', 'Doorway1', 'Outdoor1')"
      ]
     },
     "execution_count": 24,
     "metadata": {},
     "output_type": "execute_result"
    }
   ],
   "source": [
    "'Ceiling1', 'Ceiling2', 'Stove1', 'Stove2',\n",
    "'Bench1', 'Bench2', 'Bench3', 'Floor1', 'Doorway1', 'Outdoor1'"
   ]
  },
  {
   "cell_type": "code",
   "execution_count": null,
   "metadata": {
    "collapsed": true
   },
   "outputs": [],
   "source": []
  }
 ],
 "metadata": {
  "kernelspec": {
   "display_name": "Python 3",
   "language": "python",
   "name": "python3"
  },
  "language_info": {
   "codemirror_mode": {
    "name": "ipython",
    "version": 3
   },
   "file_extension": ".py",
   "mimetype": "text/x-python",
   "name": "python",
   "nbconvert_exporter": "python",
   "pygments_lexer": "ipython3",
   "version": "3.5.4"
  }
 },
 "nbformat": 4,
 "nbformat_minor": 2
}
