{
 "cells": [
  {
   "cell_type": "code",
   "execution_count": 53,
   "metadata": {},
   "outputs": [],
   "source": [
    "import numpy as np\n",
    "import pandas as pd\n",
    "import matplotlib.pyplot as plt\n",
    "\n",
    "%matplotlib qt"
   ]
  },
  {
   "cell_type": "code",
   "execution_count": 2,
   "metadata": {},
   "outputs": [],
   "source": [
    "import warnings\n",
    "warnings.filterwarnings('ignore')"
   ]
  },
  {
   "cell_type": "code",
   "execution_count": 3,
   "metadata": {},
   "outputs": [],
   "source": [
    "def smoothed_sample_anomalies(scores, halflife=2):\n",
    "    '''\n",
    "        Exponential weighted sample likelihood.\n",
    "        Args:\n",
    "            scores - result of running ClusterAD-DataSample algorithm for samples\n",
    "            halflife -  size of smoothing window.\n",
    "    '''\n",
    "    frames = [pd.DataFrame(series) for series in scores]\n",
    "    return np.array([np.array(pd.ewma(series, halflife)).reshape(-1) for series in frames])"
   ]
  },
  {
   "cell_type": "code",
   "execution_count": 4,
   "metadata": {},
   "outputs": [],
   "source": [
    "def extract_anomaly_target(frame, frame_period, halflife,\n",
    "                            horizont, top=0.01, more_info=False, **kwargs):\n",
    "    '''\n",
    "        Extract target anomalies from 2-dim frame.\n",
    "        Args:\n",
    "            frame - 2-dim pandas Dataframe\n",
    "            frame_period - period for division into group of independent series\n",
    "            halflife - size of smoothing window\n",
    "            top - anomaly bound\n",
    "            more_info - return more important objects if True\n",
    "    '''\n",
    "    import sys\n",
    "    from copy import deepcopy\n",
    "    import gaussian_mixture_anomaly_detection\n",
    "    assert len(frame.shape) == 2\n",
    "    assert isinstance(frame, pd.DataFrame)\n",
    "    frame = np.array(deepcopy(frame))\n",
    "    start_size = frame.shape[0]\n",
    "    if frame.shape[0] % frame_period != 0:\n",
    "        print(\"remove last elements until period\", file=sys.stderr)\n",
    "        for _ in np.arange(frame.shape[0] % frame_period):\n",
    "            frame = np.delete(frame, -1, 0)\n",
    "\n",
    "    data = frame.reshape(-1, frame_period, frame.shape[1])\n",
    "    detector = gaussian_mixture_anomaly_detection.GaussianMixtureInTimeAnomalyDetector(**kwargs)\n",
    "    scores = detector.fit(data)\n",
    "    smoothed_scores = smoothed_sample_anomalies(scores, halflife)\n",
    "    anomalies, treshold = detector.find_anomalies(smoothed_scores, anomaly_top=top)\n",
    "    anomaly_indexes = [t[1][0] * frame_period + t[1][1] for t in anomalies]\n",
    "    if horizont > 0:\n",
    "        all_anomalies = set()\n",
    "        for a in anomaly_indexes:\n",
    "            for l in np.arange(horizont):\n",
    "                all_anomalies.add(max(a - l, 0))\n",
    "    else:\n",
    "        all_anomalies = anomaly_indexes\n",
    "\n",
    "    targets = np.zeros(start_size)\n",
    "\n",
    "    for a in all_anomalies:\n",
    "        targets[a] = 1\n",
    "\n",
    "    if more_info:\n",
    "        return targets, scores, smoothed_scores, treshold\n",
    "    else:\n",
    "        return targets"
   ]
  },
  {
   "cell_type": "code",
   "execution_count": 5,
   "metadata": {},
   "outputs": [],
   "source": [
    "def plot_events(events, features, names):\n",
    "    if len(events) > 1:\n",
    "        events = events[0]\n",
    "    if len(features.shape) == 1:\n",
    "        features = [features]\n",
    "    assert(len(names) == len(features))\n",
    "    for name, f in zip(names, features):\n",
    "        plt.figure(figsize=(10,8))\n",
    "        plt.title(name)\n",
    "        plt.plot(f, color='blue')\n",
    "        plt.plot(np.where(events)[0],f[np.where(events)[0]],'*', color='red')\n",
    "        plt.grid(True)\n",
    "        plt.show()"
   ]
  },
  {
   "cell_type": "code",
   "execution_count": 27,
   "metadata": {},
   "outputs": [],
   "source": [
    "def merge_frames(big_f, small_f):\n",
    "    good_small_inds = np.array(small_f.index)\n",
    "    big_idx = np.array(big_f.index)\n",
    "    cur = 0\n",
    "    for i, ind in enumerate(good_small_inds):\n",
    "        while cur < len(big_idx) and big_idx[cur] < ind:\n",
    "            cur += 1\n",
    "        if cur == len(big_idx):\n",
    "            break\n",
    "        good_small_inds[i] = big_idx[cur]\n",
    "        limit = i + 1\n",
    "    plt.plot(good_small_inds)\n",
    "    plt.plot(big_idx)\n",
    "    small_f = small_f.iloc[:limit]    \n",
    "    small_f.index = good_small_inds[:limit]\n",
    "    return big_f.join(small_f, how='inner')"
   ]
  },
  {
   "cell_type": "code",
   "execution_count": 7,
   "metadata": {},
   "outputs": [],
   "source": [
    "names = ['Stove1', 'Bench1', 'Ceiling1', 'Doorway1', 'Floor1', 'Outdoor1']"
   ]
  },
  {
   "cell_type": "code",
   "execution_count": 8,
   "metadata": {},
   "outputs": [],
   "source": [
    "pools = [pd.read_csv('data/{}.csv'.format(name), index_col='timestamps') for name in names]"
   ]
  },
  {
   "cell_type": "code",
   "execution_count": 9,
   "metadata": {},
   "outputs": [],
   "source": [
    "pools = [p.sort_index() for p in pools]"
   ]
  },
  {
   "cell_type": "code",
   "execution_count": 10,
   "metadata": {},
   "outputs": [
    {
     "data": {
      "text/plain": [
       "[(133645, 2), (133622, 2), (54186, 16), (54011, 16), (54170, 16), (54243, 16)]"
      ]
     },
     "execution_count": 10,
     "metadata": {},
     "output_type": "execute_result"
    }
   ],
   "source": [
    "[p.shape for p in pools]"
   ]
  },
  {
   "cell_type": "code",
   "execution_count": 11,
   "metadata": {},
   "outputs": [
    {
     "data": {
      "text/plain": [
       "Int64Index([1542924742034, 1542924743033, 1542924744047, 1542924745233,\n",
       "            1542924746088, 1542924747108, 1542924748148, 1542924749168,\n",
       "            1542924750187, 1542924750930,\n",
       "            ...\n",
       "            1543068713411, 1543068714400, 1543068715401, 1543068716401,\n",
       "            1543068717497, 1543068718701, 1543068719500, 1543068720409,\n",
       "            1543068721402, 1543068722403],\n",
       "           dtype='int64', name='timestamps', length=133645)"
      ]
     },
     "execution_count": 11,
     "metadata": {},
     "output_type": "execute_result"
    }
   ],
   "source": [
    "pools[0].index"
   ]
  },
  {
   "cell_type": "code",
   "execution_count": 12,
   "metadata": {},
   "outputs": [
    {
     "data": {
      "text/plain": [
       "Int64Index([1542924742055, 1542924743055, 1542924744068, 1542924745255,\n",
       "            1542924746109, 1542924747129, 1542924748444, 1542924749189,\n",
       "            1542924750209, 1542924750951,\n",
       "            ...\n",
       "            1543067406215, 1543067407215, 1543067408216, 1543067409416,\n",
       "            1543067410216, 1543067411223, 1543067412214, 1543067413214,\n",
       "            1543067414327, 1543067415527],\n",
       "           dtype='int64', name='timestamps', length=133622)"
      ]
     },
     "execution_count": 12,
     "metadata": {},
     "output_type": "execute_result"
    }
   ],
   "source": [
    "pools[1].index"
   ]
  },
  {
   "cell_type": "code",
   "execution_count": 28,
   "metadata": {},
   "outputs": [],
   "source": [
    "for i, z in enumerate(zip(names, pools)):\n",
    "    name, p = z\n",
    "    l = np.where(p.index > 1.54297 * 1e12)\n",
    "    pools[i] = p.iloc[l]\n",
    "    fix = lambda c: c + '_{}'.format(name)\n",
    "    pools[i].columns = [fix(c) for c in p.columns]"
   ]
  },
  {
   "cell_type": "code",
   "execution_count": 30,
   "metadata": {},
   "outputs": [
    {
     "data": {
      "image/png": "[encoded data removed]",
      "text/plain": [
       "<matplotlib.figure.Figure at 0x114f4c6a0>"
      ]
     },
     "metadata": {},
     "output_type": "display_data"
    }
   ],
   "source": [
    "bfp = pools[0]\n",
    "for name, p in zip(names[1:], pools[1:]):\n",
    "    bfp = merge_frames(bfp, p)"
   ]
  },
  {
   "cell_type": "code",
   "execution_count": 31,
   "metadata": {},
   "outputs": [
    {
     "data": {
      "text/html": [
       "<div>\n",
       "<style scoped>\n",
       "    .dataframe tbody tr th:only-of-type {\n",
       "        vertical-align: middle;\n",
       "    }\n",
       "\n",
       "    .dataframe tbody tr th {\n",
       "        vertical-align: top;\n",
       "    }\n",
       "\n",
       "    .dataframe thead th {\n",
       "        text-align: right;\n",
       "    }\n",
       "</style>\n",
       "<table border=\"1\" class=\"dataframe\">\n",
       "  <thead>\n",
       "    <tr style=\"text-align: right;\">\n",
       "      <th></th>\n",
       "      <th>Water vapor saturation pressure_Stove1</th>\n",
       "      <th>Temperature_Stove1</th>\n",
       "      <th>Carbon Dioxide concentration_Bench1</th>\n",
       "      <th>Temperature_Bench1</th>\n",
       "      <th>Water vapor saturation pressure_Ceiling1</th>\n",
       "      <th>Absolute humidity at NTP_Ceiling1</th>\n",
       "      <th>Wet-bulb temperature_Ceiling1</th>\n",
       "      <th>Dew point temperature_Ceiling1</th>\n",
       "      <th>Relative humidity_Ceiling1</th>\n",
       "      <th>Enthalpy_Ceiling1</th>\n",
       "      <th>...</th>\n",
       "      <th>Mixing ratio_Outdoor1</th>\n",
       "      <th>Dew point temperature difference_Outdoor1</th>\n",
       "      <th>Water concentration_Outdoor1</th>\n",
       "      <th>Temperature_Outdoor1</th>\n",
       "      <th>Dew point temperature at 1 atm_Outdoor1</th>\n",
       "      <th>Dew/frost point temperature_Outdoor1</th>\n",
       "      <th>Water vapor pressure_Outdoor1</th>\n",
       "      <th>Dew/frost point temperature at 1 atm_Outdoor1</th>\n",
       "      <th>Absolute humidity_Outdoor1</th>\n",
       "      <th>Water mass fraction_Outdoor1</th>\n",
       "    </tr>\n",
       "  </thead>\n",
       "  <tbody>\n",
       "    <tr>\n",
       "      <th>1542970115132</th>\n",
       "      <td>3652.88</td>\n",
       "      <td>140.4</td>\n",
       "      <td>380.0</td>\n",
       "      <td>31.28</td>\n",
       "      <td>81.13</td>\n",
       "      <td>0.07</td>\n",
       "      <td>20.05</td>\n",
       "      <td>5.27</td>\n",
       "      <td>10.93</td>\n",
       "      <td>56.33</td>\n",
       "      <td>...</td>\n",
       "      <td>3.99</td>\n",
       "      <td>3.06</td>\n",
       "      <td>6415</td>\n",
       "      <td>3.77</td>\n",
       "      <td>0.71</td>\n",
       "      <td>0.71</td>\n",
       "      <td>6.44</td>\n",
       "      <td>0.71</td>\n",
       "      <td>5.05</td>\n",
       "      <td>3990</td>\n",
       "    </tr>\n",
       "    <tr>\n",
       "      <th>1542970115132</th>\n",
       "      <td>3652.88</td>\n",
       "      <td>140.4</td>\n",
       "      <td>380.0</td>\n",
       "      <td>31.28</td>\n",
       "      <td>81.13</td>\n",
       "      <td>0.07</td>\n",
       "      <td>20.05</td>\n",
       "      <td>5.27</td>\n",
       "      <td>10.93</td>\n",
       "      <td>56.33</td>\n",
       "      <td>...</td>\n",
       "      <td>3.98</td>\n",
       "      <td>3.07</td>\n",
       "      <td>6403</td>\n",
       "      <td>3.76</td>\n",
       "      <td>0.69</td>\n",
       "      <td>0.69</td>\n",
       "      <td>6.43</td>\n",
       "      <td>0.69</td>\n",
       "      <td>5.04</td>\n",
       "      <td>3982</td>\n",
       "    </tr>\n",
       "    <tr>\n",
       "      <th>1542970115132</th>\n",
       "      <td>3652.88</td>\n",
       "      <td>140.4</td>\n",
       "      <td>380.0</td>\n",
       "      <td>31.28</td>\n",
       "      <td>81.13</td>\n",
       "      <td>0.07</td>\n",
       "      <td>20.05</td>\n",
       "      <td>5.27</td>\n",
       "      <td>10.93</td>\n",
       "      <td>56.33</td>\n",
       "      <td>...</td>\n",
       "      <td>3.98</td>\n",
       "      <td>3.08</td>\n",
       "      <td>6397</td>\n",
       "      <td>3.75</td>\n",
       "      <td>0.67</td>\n",
       "      <td>0.67</td>\n",
       "      <td>6.42</td>\n",
       "      <td>0.67</td>\n",
       "      <td>5.04</td>\n",
       "      <td>3979</td>\n",
       "    </tr>\n",
       "    <tr>\n",
       "      <th>1542970115132</th>\n",
       "      <td>3652.88</td>\n",
       "      <td>140.4</td>\n",
       "      <td>380.0</td>\n",
       "      <td>31.28</td>\n",
       "      <td>81.13</td>\n",
       "      <td>0.07</td>\n",
       "      <td>20.05</td>\n",
       "      <td>5.27</td>\n",
       "      <td>10.93</td>\n",
       "      <td>56.33</td>\n",
       "      <td>...</td>\n",
       "      <td>3.97</td>\n",
       "      <td>3.09</td>\n",
       "      <td>6390</td>\n",
       "      <td>3.75</td>\n",
       "      <td>0.66</td>\n",
       "      <td>0.66</td>\n",
       "      <td>6.41</td>\n",
       "      <td>0.66</td>\n",
       "      <td>5.03</td>\n",
       "      <td>3974</td>\n",
       "    </tr>\n",
       "    <tr>\n",
       "      <th>1542970115132</th>\n",
       "      <td>3652.88</td>\n",
       "      <td>140.4</td>\n",
       "      <td>380.0</td>\n",
       "      <td>31.28</td>\n",
       "      <td>81.13</td>\n",
       "      <td>0.07</td>\n",
       "      <td>20.05</td>\n",
       "      <td>5.27</td>\n",
       "      <td>10.93</td>\n",
       "      <td>56.33</td>\n",
       "      <td>...</td>\n",
       "      <td>3.97</td>\n",
       "      <td>3.09</td>\n",
       "      <td>6388</td>\n",
       "      <td>3.74</td>\n",
       "      <td>0.65</td>\n",
       "      <td>0.65</td>\n",
       "      <td>6.41</td>\n",
       "      <td>0.65</td>\n",
       "      <td>5.03</td>\n",
       "      <td>3973</td>\n",
       "    </tr>\n",
       "  </tbody>\n",
       "</table>\n",
       "<p>5 rows × 68 columns</p>\n",
       "</div>"
      ],
      "text/plain": [
       "               Water vapor saturation pressure_Stove1  Temperature_Stove1  \\\n",
       "1542970115132                                 3652.88               140.4   \n",
       "1542970115132                                 3652.88               140.4   \n",
       "1542970115132                                 3652.88               140.4   \n",
       "1542970115132                                 3652.88               140.4   \n",
       "1542970115132                                 3652.88               140.4   \n",
       "\n",
       "               Carbon Dioxide concentration_Bench1  Temperature_Bench1  \\\n",
       "1542970115132                                380.0               31.28   \n",
       "1542970115132                                380.0               31.28   \n",
       "1542970115132                                380.0               31.28   \n",
       "1542970115132                                380.0               31.28   \n",
       "1542970115132                                380.0               31.28   \n",
       "\n",
       "               Water vapor saturation pressure_Ceiling1  \\\n",
       "1542970115132                                     81.13   \n",
       "1542970115132                                     81.13   \n",
       "1542970115132                                     81.13   \n",
       "1542970115132                                     81.13   \n",
       "1542970115132                                     81.13   \n",
       "\n",
       "               Absolute humidity at NTP_Ceiling1  \\\n",
       "1542970115132                               0.07   \n",
       "1542970115132                               0.07   \n",
       "1542970115132                               0.07   \n",
       "1542970115132                               0.07   \n",
       "1542970115132                               0.07   \n",
       "\n",
       "               Wet-bulb temperature_Ceiling1  Dew point temperature_Ceiling1  \\\n",
       "1542970115132                          20.05                            5.27   \n",
       "1542970115132                          20.05                            5.27   \n",
       "1542970115132                          20.05                            5.27   \n",
       "1542970115132                          20.05                            5.27   \n",
       "1542970115132                          20.05                            5.27   \n",
       "\n",
       "               Relative humidity_Ceiling1  Enthalpy_Ceiling1  \\\n",
       "1542970115132                       10.93              56.33   \n",
       "1542970115132                       10.93              56.33   \n",
       "1542970115132                       10.93              56.33   \n",
       "1542970115132                       10.93              56.33   \n",
       "1542970115132                       10.93              56.33   \n",
       "\n",
       "                           ...               Mixing ratio_Outdoor1  \\\n",
       "1542970115132              ...                                3.99   \n",
       "1542970115132              ...                                3.98   \n",
       "1542970115132              ...                                3.98   \n",
       "1542970115132              ...                                3.97   \n",
       "1542970115132              ...                                3.97   \n",
       "\n",
       "               Dew point temperature difference_Outdoor1  \\\n",
       "1542970115132                                       3.06   \n",
       "1542970115132                                       3.07   \n",
       "1542970115132                                       3.08   \n",
       "1542970115132                                       3.09   \n",
       "1542970115132                                       3.09   \n",
       "\n",
       "               Water concentration_Outdoor1  Temperature_Outdoor1  \\\n",
       "1542970115132                          6415                  3.77   \n",
       "1542970115132                          6403                  3.76   \n",
       "1542970115132                          6397                  3.75   \n",
       "1542970115132                          6390                  3.75   \n",
       "1542970115132                          6388                  3.74   \n",
       "\n",
       "               Dew point temperature at 1 atm_Outdoor1  \\\n",
       "1542970115132                                     0.71   \n",
       "1542970115132                                     0.69   \n",
       "1542970115132                                     0.67   \n",
       "1542970115132                                     0.66   \n",
       "1542970115132                                     0.65   \n",
       "\n",
       "               Dew/frost point temperature_Outdoor1  \\\n",
       "1542970115132                                  0.71   \n",
       "1542970115132                                  0.69   \n",
       "1542970115132                                  0.67   \n",
       "1542970115132                                  0.66   \n",
       "1542970115132                                  0.65   \n",
       "\n",
       "               Water vapor pressure_Outdoor1  \\\n",
       "1542970115132                           6.44   \n",
       "1542970115132                           6.43   \n",
       "1542970115132                           6.42   \n",
       "1542970115132                           6.41   \n",
       "1542970115132                           6.41   \n",
       "\n",
       "               Dew/frost point temperature at 1 atm_Outdoor1  \\\n",
       "1542970115132                                           0.71   \n",
       "1542970115132                                           0.69   \n",
       "1542970115132                                           0.67   \n",
       "1542970115132                                           0.66   \n",
       "1542970115132                                           0.65   \n",
       "\n",
       "               Absolute humidity_Outdoor1  Water mass fraction_Outdoor1  \n",
       "1542970115132                        5.05                          3990  \n",
       "1542970115132                        5.04                          3982  \n",
       "1542970115132                        5.04                          3979  \n",
       "1542970115132                        5.03                          3974  \n",
       "1542970115132                        5.03                          3973  \n",
       "\n",
       "[5 rows x 68 columns]"
      ]
     },
     "execution_count": 31,
     "metadata": {},
     "output_type": "execute_result"
    }
   ],
   "source": [
    "bfp.head()"
   ]
  },
  {
   "cell_type": "code",
   "execution_count": 32,
   "metadata": {},
   "outputs": [],
   "source": [
    "bfp.to_csv('data/bfp6.csv')"
   ]
  },
  {
   "cell_type": "code",
   "execution_count": 33,
   "metadata": {},
   "outputs": [],
   "source": [
    "deltas = bfp.diff()"
   ]
  },
  {
   "cell_type": "code",
   "execution_count": 34,
   "metadata": {},
   "outputs": [
    {
     "data": {
      "text/plain": [
       "Int64Index([1542970115132, 1542970115132, 1542970115132, 1542970115132,\n",
       "            1542970115132, 1542970115132, 1542970115132, 1542970115132,\n",
       "            1542970115132, 1542970115132,\n",
       "            ...\n",
       "            1543067408195, 1543067409395, 1543067409395, 1543067411202,\n",
       "            1543067412193, 1543067413193, 1543067414305, 1543067414305,\n",
       "            1543067415505, 1543067416305],\n",
       "           dtype='int64', length=68643)"
      ]
     },
     "execution_count": 34,
     "metadata": {},
     "output_type": "execute_result"
    }
   ],
   "source": [
    "bfp.index"
   ]
  },
  {
   "cell_type": "code",
   "execution_count": 35,
   "metadata": {},
   "outputs": [],
   "source": [
    "deltas = np.divide(bfp.diff()[1:], np.array(bfp.index[1:] - bfp.index[:-1] + 1).reshape(-1,1))"
   ]
  },
  {
   "cell_type": "code",
   "execution_count": 57,
   "metadata": {},
   "outputs": [
    {
     "name": "stderr",
     "output_type": "stream",
     "text": [
      "remove last elements until period\n",
      "100%|██████████| 10/10 [01:48<00:00, 10.82s/it]\n",
      "Best number of clusters (according to BIC) - 90.\n",
      "Sample clusters fitting - OK.\n",
      "100%|██████████| 686/686 [02:02<00:00,  5.60it/s]\n",
      "Probabilities memorization - OK.\n",
      "Log-likelihood evaluation - OK.\n"
     ]
    }
   ],
   "source": [
    "g = extract_anomaly_target(pd.DataFrame(deltas.values[:, good_features]), \n",
    "    frame_period=100, halflife=0, horizont=100, top=1e-3, more_info=True, n_min=10, n_max=100, step=10)"
   ]
  },
  {
   "cell_type": "code",
   "execution_count": 37,
   "metadata": {},
   "outputs": [],
   "source": [
    "# list(enumerate(bfp.columns))"
   ]
  },
  {
   "cell_type": "code",
   "execution_count": 58,
   "metadata": {},
   "outputs": [],
   "source": [
    "good_features = [3, 2, 13]"
   ]
  },
  {
   "cell_type": "code",
   "execution_count": 61,
   "metadata": {},
   "outputs": [],
   "source": [
    "plot_events(g, bfp.values.T[good_features], bfp.columns[good_features])"
   ]
  },
  {
   "cell_type": "code",
   "execution_count": 67,
   "metadata": {},
   "outputs": [
    {
     "data": {
      "text/plain": [
       "((68642,), (68600,))"
      ]
     },
     "execution_count": 67,
     "metadata": {},
     "output_type": "execute_result"
    }
   ],
   "source": [
    "g[0].shape, g[2].reshape(-1).shape"
   ]
  },
  {
   "cell_type": "code",
   "execution_count": 70,
   "metadata": {},
   "outputs": [],
   "source": [
    "events = pd.DataFrame(data=np.concatenate([g[0][:-42].reshape(-1,1), -g[2].reshape(-1,1)],axis=1),\n",
    "             index=bfp.index[:-43], columns=['is_anomaly', 'neg_log_anomaly_score'])"
   ]
  },
  {
   "cell_type": "code",
   "execution_count": 71,
   "metadata": {},
   "outputs": [],
   "source": [
    "bfp_mini = pd.DataFrame(bfp.values[:,good_features], columns = bfp.columns[good_features], index=bfp.index)"
   ]
  },
  {
   "cell_type": "code",
   "execution_count": 72,
   "metadata": {},
   "outputs": [
    {
     "data": {
      "text/plain": [
       "(68643, 3)"
      ]
     },
     "execution_count": 72,
     "metadata": {},
     "output_type": "execute_result"
    }
   ],
   "source": [
    "bfp_mini.shape"
   ]
  },
  {
   "cell_type": "code",
   "execution_count": 73,
   "metadata": {},
   "outputs": [
    {
     "data": {
      "text/plain": [
       "(68600, 2)"
      ]
     },
     "execution_count": 73,
     "metadata": {},
     "output_type": "execute_result"
    }
   ],
   "source": [
    "events.shape"
   ]
  },
  {
   "cell_type": "code",
   "execution_count": 76,
   "metadata": {},
   "outputs": [],
   "source": [
    "pd.concat([bfp_mini[:-43], events],axis=1).to_csv('data/bfp6_with_anomaly_score.csv', index_label='Timestamps')"
   ]
  },
  {
   "cell_type": "code",
   "execution_count": null,
   "metadata": {},
   "outputs": [],
   "source": []
  }
 ],
 "metadata": {
  "kernelspec": {
   "display_name": "Python 3",
   "language": "python",
   "name": "python3"
  },
  "language_info": {
   "codemirror_mode": {
    "name": "ipython",
    "version": 3
   },
   "file_extension": ".py",
   "mimetype": "text/x-python",
   "name": "python",
   "nbconvert_exporter": "python",
   "pygments_lexer": "ipython3",
   "version": "3.6.4"
  }
 },
 "nbformat": 4,
 "nbformat_minor": 2
}
