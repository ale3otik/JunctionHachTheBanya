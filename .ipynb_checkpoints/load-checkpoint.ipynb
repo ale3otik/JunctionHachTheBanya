{
 "cells": [
  {
   "cell_type": "code",
   "execution_count": 1,
   "metadata": {
    "collapsed": true
   },
   "outputs": [],
   "source": [
    "import matplotlib.pyplot as plt\n",
    "import json\n",
    "import requests\n",
    "import numpy as np\n",
    "%matplotlib inline"
   ]
  },
  {
   "cell_type": "code",
   "execution_count": 2,
   "metadata": {
    "collapsed": true
   },
   "outputs": [],
   "source": [
    "def get_temp(elem):\n",
    "    return elem['Measurements']['Temperature']['value']\n",
    "\n",
    "def get_timestamp(elem):\n",
    "    return elem['Timestamp']"
   ]
  },
  {
   "cell_type": "code",
   "execution_count": null,
   "metadata": {
    "collapsed": false
   },
   "outputs": [],
   "source": [
    "URL_TEMPLATE = \"https://apigtw.vaisala.com/hackjunction2018/saunameasurements/history?SensorID={}&before={}&after={}\"\n",
    "sensor_id = \"Stove1\"\n",
    "now =   1543000342000\n",
    "start = 1522924742000\n",
    "delta = 3600000\n",
    "for timestamp in range(start, now, delta):\n",
    "    before = timestamp + delta\n",
    "    after = timestamp\n",
    "    response = requests.get(URL_TEMPLATE.format(sensor_id, before, after))\n",
    "    with open(\"data/temperature_{}_{}_{}.csv\".format(sensor_id, before, after), \"w\") as file:\n",
    "        file.write(response.text)\n",
    "\n",
    "# data = json.loads(response.text)"
   ]
  },
  {
   "cell_type": "code",
   "execution_count": 38,
   "metadata": {
    "collapsed": false
   },
   "outputs": [],
   "source": [
    "timestamps_all = []\n",
    "temps_all = []\n",
    "\n",
    "for timestamp in range(start, now, delta):\n",
    "    before = timestamp + delta\n",
    "    after = timestamp\n",
    "    with open(\"data/temperature_{}_{}_{}.csv\".format(sensor_id, before, after), \"r\") as file:\n",
    "        json_data = json.load(file)\n",
    "#     assert len(timestamps_all) == len(temps_all)\n",
    "#     if len(json_data) > 0:\n",
    "    timestamps_curr = list(reversed([get_timestamp(x) for x in json_data]))\n",
    "    temps_curr = list(reversed([get_temp(x) for x in json_data]))\n",
    "\n",
    "    assert len(timestamps_curr) == len(temps_curr)\n",
    "    if len(timestamps_curr) > 0:\n",
    "        timestamps_all.append(timestamps_curr)\n",
    "        temps_all.append(temps_curr)\n",
    "\n",
    "timestamps_all = np.concatenate(timestamps_all)\n",
    "temps_all = np.concatenate(temps_all)"
   ]
  },
  {
   "cell_type": "code",
   "execution_count": 27,
   "metadata": {
    "collapsed": true
   },
   "outputs": [],
   "source": [
    "size = 0\n",
    "with open(\"data/temperature_Bench1_1543000342000_1542996742000.csv\", \"r\") as f:\n",
    "    size = len(json.load(f))\n"
   ]
  },
  {
   "cell_type": "code",
   "execution_count": 28,
   "metadata": {
    "collapsed": false
   },
   "outputs": [
    {
     "data": {
      "text/plain": [
       "3593"
      ]
     },
     "execution_count": 28,
     "metadata": {},
     "output_type": "execute_result"
    }
   ],
   "source": [
    "size"
   ]
  },
  {
   "cell_type": "code",
   "execution_count": 29,
   "metadata": {
    "collapsed": false
   },
   "outputs": [
    {
     "data": {
      "text/plain": [
       "array([11.03, 11.03, 11.03, 11.03, 11.03, 11.03, 11.03, 11.02, 11.02,\n",
       "       11.02, 11.02, 11.02, 11.02, 11.02, 11.02, 11.01, 11.01, 11.01,\n",
       "       11.01, 11.01])"
      ]
     },
     "execution_count": 29,
     "metadata": {},
     "output_type": "execute_result"
    }
   ],
   "source": [
    "temps_all[:20]"
   ]
  },
  {
   "cell_type": "code",
   "execution_count": 42,
   "metadata": {
    "collapsed": false
   },
   "outputs": [
    {
     "data": {
      "text/plain": [
       "[<matplotlib.lines.Line2D at 0x113b06fd0>]"
      ]
     },
     "execution_count": 42,
     "metadata": {},
     "output_type": "execute_result"
    },
    {
     "data": {
      "image/png": "[encoded data removed]",
      "text/plain": [
       "<matplotlib.figure.Figure at 0x112254748>"
      ]
     },
     "metadata": {},
     "output_type": "display_data"
    }
   ],
   "source": [
    "plt.plot(timestamps_all, temps_all)"
   ]
  },
  {
   "cell_type": "code",
   "execution_count": 51,
   "metadata": {
    "collapsed": true
   },
   "outputs": [
    {
     "data": {
      "text/plain": [
       "[<matplotlib.lines.Line2D at 0x10c9ca1d0>]"
      ]
     },
     "execution_count": 51,
     "metadata": {},
     "output_type": "execute_result"
    },
    {
     "data": {
      "image/png": "[encoded data removed]",
      "text/plain": [
       "<matplotlib.figure.Figure at 0x111e85b38>"
      ]
     },
     "metadata": {},
     "output_type": "display_data"
    }
   ],
   "source": [
    "from collections import Counter\n",
    "plt.plot(timestamps_all[30000:])"
   ]
  },
  {
   "cell_type": "code",
   "execution_count": 52,
   "metadata": {},
   "outputs": [],
   "source": [
    "features = temps_all[30000:]"
   ]
  },
  {
   "cell_type": "code",
   "execution_count": 55,
   "metadata": {},
   "outputs": [],
   "source": [
    "import sys\n",
    "sys.path.insert(0, '../FlightAnomaliesDetection/gaussian_mixture_anomaly_detection.py')"
   ]
  },
  {
   "cell_type": "code",
   "execution_count": 107,
   "metadata": {},
   "outputs": [],
   "source": [
    "from importlib import reload\n",
    "reload(gaussian_mixture_anomaly_detection)\n",
    "import gaussian_mixture_anomaly_detection"
   ]
  },
  {
   "cell_type": "code",
   "execution_count": 63,
   "metadata": {},
   "outputs": [],
   "source": [
    "import pandas as pd"
   ]
  },
  {
   "cell_type": "code",
   "execution_count": 64,
   "metadata": {},
   "outputs": [],
   "source": [
    "frame = pd.DataFrame(features)"
   ]
  },
  {
   "cell_type": "code",
   "execution_count": 108,
   "metadata": {},
   "outputs": [
    {
     "name": "stderr",
     "output_type": "stream",
     "text": [
      "remove last elements until period\n",
      "/anaconda3/lib/python3.6/site-packages/sklearn/mixture/base.py:237: ConvergenceWarning: Initialization 1 did not converge. Try different init parameters, or increase max_iter, tol or check for degenerate data.\n",
      "  % (init + 1), ConvergenceWarning)\n",
      "Sample clusters fitting - OK.\n",
      "100%|██████████| 590/590 [01:13<00:00,  7.98it/s]\n",
      "Probabilities memorization - OK.\n",
      "Log-likelihood evaluation - OK.\n",
      "../FlightAnomaliesDetection/gaussian_mixture_anomaly_detection.py:321: FutureWarning: pd.ewm_mean is deprecated for DataFrame and will be removed in a future version, replace with \n",
      "\tDataFrame.ewm(com=10,min_periods=0,adjust=True,ignore_na=False).mean()\n",
      "  return np.array([np.array(pd.ewma(series, halflife)).reshape(-1) for series in frames])\n"
     ]
    },
    {
     "ename": "NameError",
     "evalue": "name 'anomaly_index' is not defined",
     "output_type": "error",
     "traceback": [
      "\u001b[0;31m---------------------------------------------------------------------------\u001b[0m",
      "\u001b[0;31mNameError\u001b[0m                                 Traceback (most recent call last)",
      "\u001b[0;32m<ipython-input-108-25813db198f2>\u001b[0m in \u001b[0;36m<module>\u001b[0;34m()\u001b[0m\n\u001b[1;32m      1\u001b[0m g = gaussian_mixture_anomaly_detection.extract_anomaly_target(frame, frame_period=60, halflife=10,\n\u001b[0;32m----> 2\u001b[0;31m                             horizont=0, top=0.01, more_info=True, n_components=100)\n\u001b[0m",
      "\u001b[0;32m~/Documents/my/FlightAnomaliesDetection/gaussian_mixture_anomaly_detection.py\u001b[0m in \u001b[0;36mextract_anomaly_target\u001b[0;34m(frame, frame_period, halflife, horizont, top, more_info, **kwargs)\u001b[0m\n\u001b[1;32m    354\u001b[0m                 \u001b[0mall_anomalies\u001b[0m\u001b[0;34m.\u001b[0m\u001b[0madd\u001b[0m\u001b[0;34m(\u001b[0m\u001b[0mmax\u001b[0m\u001b[0;34m(\u001b[0m\u001b[0ma\u001b[0m \u001b[0;34m-\u001b[0m \u001b[0ml\u001b[0m\u001b[0;34m,\u001b[0m \u001b[0;36m0\u001b[0m\u001b[0;34m)\u001b[0m\u001b[0;34m)\u001b[0m\u001b[0;34m\u001b[0m\u001b[0m\n\u001b[1;32m    355\u001b[0m     \u001b[0;32melse\u001b[0m\u001b[0;34m:\u001b[0m\u001b[0;34m\u001b[0m\u001b[0m\n\u001b[0;32m--> 356\u001b[0;31m         \u001b[0mall_anomalies\u001b[0m \u001b[0;34m=\u001b[0m \u001b[0manomaly_index\u001b[0m\u001b[0;34m\u001b[0m\u001b[0m\n\u001b[0m\u001b[1;32m    357\u001b[0m \u001b[0;34m\u001b[0m\u001b[0m\n\u001b[1;32m    358\u001b[0m     \u001b[0mtargets\u001b[0m \u001b[0;34m=\u001b[0m \u001b[0mnp\u001b[0m\u001b[0;34m.\u001b[0m\u001b[0mzeros\u001b[0m\u001b[0;34m(\u001b[0m\u001b[0mstart_size\u001b[0m\u001b[0;34m)\u001b[0m\u001b[0;34m\u001b[0m\u001b[0m\n",
      "\u001b[0;31mNameError\u001b[0m: name 'anomaly_index' is not defined"
     ]
    }
   ],
   "source": [
    "g = gaussian_mixture_anomaly_detection.extract_anomaly_target(frame, frame_period=60, halflife=10,\n",
    "                            horizont=0, top=0.01, more_info=True, n_components=100)"
   ]
  },
  {
   "cell_type": "code",
   "execution_count": null,
   "metadata": {},
   "outputs": [],
   "source": [
    "plt.figure(figsize=(10,8))\n",
    "plt.plot(features, color='blue')\n",
    "plt.plot(np.where(g[0])[0],features[np.where(g[0])[0]],'*', color='red')\n",
    "plt.grid(True)\n",
    "plt.show()"
   ]
  },
  {
   "cell_type": "code",
   "execution_count": null,
   "metadata": {},
   "outputs": [],
   "source": []
  }
 ],
 "metadata": {
  "kernelspec": {
   "display_name": "Python 3",
   "language": "python",
   "name": "python3"
  },
  "language_info": {
   "codemirror_mode": {
    "name": "ipython",
    "version": 3
   },
   "file_extension": ".py",
   "mimetype": "text/x-python",
   "name": "python",
   "nbconvert_exporter": "python",
   "pygments_lexer": "ipython3",
   "version": "3.6.4"
  }
 },
 "nbformat": 4,
 "nbformat_minor": 2
}
